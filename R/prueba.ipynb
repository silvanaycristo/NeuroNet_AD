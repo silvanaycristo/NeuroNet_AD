{
 "cells": [
  {
   "cell_type": "code",
   "execution_count": 1,
   "id": "28a59aed-658f-45c3-9a41-5c6f2f303554",
   "metadata": {},
   "outputs": [
    {
     "data": {
      "text/plain": [
       "9"
      ]
     },
     "execution_count": 1,
     "metadata": {},
     "output_type": "execute_result"
    }
   ],
   "source": [
    "7 + 2\n"
   ]
  },
  {
   "cell_type": "code",
   "execution_count": null,
   "id": "fee35824-9b8b-42ba-8751-054751cfffbf",
   "metadata": {},
   "outputs": [],
   "source": [
    "# Prueba "
   ]
  }
 ],
 "metadata": {
  "kernelspec": {
   "display_name": "Python 3 (ipykernel)",
   "language": "python",
   "name": "python3"
  },
  "language_info": {
   "codemirror_mode": {
    "name": "ipython",
    "version": 3
   },
   "file_extension": ".py",
   "mimetype": "text/x-python",
   "name": "python",
   "nbconvert_exporter": "python",
   "pygments_lexer": "ipython3",
   "version": "3.12.4"
  }
 },
 "nbformat": 4,
 "nbformat_minor": 5
}
